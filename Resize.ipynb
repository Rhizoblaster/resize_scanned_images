{
 "cells": [
  {
   "cell_type": "code",
   "execution_count": 6,
   "metadata": {},
   "outputs": [
    {
     "name": "stdout",
     "output_type": "stream",
     "text": [
      "['scanner_10_2019-08-18-0001.tif', 'scanner_11_2019-08-17-01-0001.tif', 'scanner_11_2019-08-18-02-0001.tif', 'scanner_11_2019-08-19-02-0001.tif', 'scanner_12_2019-08-18-0001.tif', 'scanner_13_2019-08-17-0001.tif', 'scanner_13_2019-08-18-0001.tif', 'scanner_13_2019-08-19-0001.tif', 'scanner_14_2019-08-18-02-0001.tif', 'scanner_15_2019-08-16-17-0001.tif', 'scanner_15_2019-08-18-02-0001.tif', 'scanner_15_2019-08-19-03-0001.tif', 'scanner_16_2019-08-18-02-0001.tif', 'scanner_9_2019-08-17-0001.tif', 'scanner_9_2019-08-18-0001.tif', 'scanner_9_2019-08-19-0001.tif']\n",
      "one is done!\n",
      "one is done!\n",
      "one is done!\n",
      "one is done!\n",
      "one is done!\n",
      "one is done!\n",
      "one is done!\n",
      "one is done!\n",
      "one is done!\n",
      "one is done!\n",
      "one is done!\n",
      "one is done!\n",
      "one is done!\n",
      "one is done!\n",
      "one is done!\n",
      "one is done!\n",
      "All Done!\n"
     ]
    }
   ],
   "source": [
    "from PIL import Image\n",
    "import os, sys\n",
    "\n",
    "\n",
    "\n",
    "in_path = (\"C:/Users/isaac_madsen/Desktop/in_furrow_moisture/raw\")\n",
    "out_path = (\"C:/Users/isaac_madsen/Desktop/in_furrow_moisture/resized\")\n",
    "\n",
    "Image.MAX_IMAGE_PIXELS = 700000000\n",
    "\n",
    "\n",
    "scaler = 0.25\n",
    "\n",
    "dirs = os.listdir( in_path )\n",
    "\n",
    "print (dirs)\n",
    "\n",
    "for item in dirs:\n",
    "    im = Image.open(in_path + \"/\" + item)\n",
    "    width, height = im.size\n",
    "    newsize = (int(width*scaler), int(height*scaler))\n",
    "    resized_im = im.resize(newsize)\n",
    "    f, e = os.path.splitext(out_path + \"/\" + item)\n",
    "    resized_im.save(f + '_resized.jpg', 'JPEG', quality = 90)\n",
    "    print(\"one is done!\")\n",
    "    \n",
    "print(\"All Done!\")"
   ]
  }
 ],
 "metadata": {
  "kernelspec": {
   "display_name": "Python 3",
   "language": "python",
   "name": "python3"
  },
  "language_info": {
   "codemirror_mode": {
    "name": "ipython",
    "version": 3
   },
   "file_extension": ".py",
   "mimetype": "text/x-python",
   "name": "python",
   "nbconvert_exporter": "python",
   "pygments_lexer": "ipython3",
   "version": "3.6.4"
  }
 },
 "nbformat": 4,
 "nbformat_minor": 2
}
